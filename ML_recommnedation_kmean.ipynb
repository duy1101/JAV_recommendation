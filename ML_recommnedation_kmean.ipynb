{
 "cells": [
  {
   "cell_type": "code",
   "execution_count": 1,
   "metadata": {},
   "outputs": [],
   "source": [
    "import pandas as pd\n",
    "import numpy as np\n",
    "import matplotlib.pyplot as plt\n",
    "from sklearn.cluster import KMeans \n",
    "from sklearn import metrics\n",
    "import warnings\n",
    "warnings.filterwarnings(\"ignore\")"
   ]
  },
  {
   "cell_type": "code",
   "execution_count": 2,
   "metadata": {},
   "outputs": [
    {
     "data": {
      "text/html": [
       "<div>\n",
       "<style scoped>\n",
       "    .dataframe tbody tr th:only-of-type {\n",
       "        vertical-align: middle;\n",
       "    }\n",
       "\n",
       "    .dataframe tbody tr th {\n",
       "        vertical-align: top;\n",
       "    }\n",
       "\n",
       "    .dataframe thead th {\n",
       "        text-align: right;\n",
       "    }\n",
       "</style>\n",
       "<table border=\"1\" class=\"dataframe\">\n",
       "  <thead>\n",
       "    <tr style=\"text-align: right;\">\n",
       "      <th></th>\n",
       "      <th>id</th>\n",
       "      <th>name</th>\n",
       "      <th>japanName</th>\n",
       "      <th>hiragana</th>\n",
       "      <th>bust</th>\n",
       "      <th>waist</th>\n",
       "      <th>hip</th>\n",
       "      <th>height</th>\n",
       "      <th>birthday</th>\n",
       "      <th>blood_type</th>\n",
       "      <th>hobby</th>\n",
       "      <th>prefectures</th>\n",
       "    </tr>\n",
       "  </thead>\n",
       "  <tbody>\n",
       "    <tr>\n",
       "      <th>0</th>\n",
       "      <td>3</td>\n",
       "      <td>Kitagawa Yui</td>\n",
       "      <td>北川ゆい</td>\n",
       "      <td>きたがわゆい</td>\n",
       "      <td>95.0</td>\n",
       "      <td>60.0</td>\n",
       "      <td>88.0</td>\n",
       "      <td>NaN</td>\n",
       "      <td>1980-12-14</td>\n",
       "      <td>AB</td>\n",
       "      <td>クラシックバレエ</td>\n",
       "      <td>None</td>\n",
       "    </tr>\n",
       "    <tr>\n",
       "      <th>1</th>\n",
       "      <td>4</td>\n",
       "      <td>Akira</td>\n",
       "      <td>Akira</td>\n",
       "      <td>あきら</td>\n",
       "      <td>90.0</td>\n",
       "      <td>58.0</td>\n",
       "      <td>86.0</td>\n",
       "      <td>157.0</td>\n",
       "      <td>1978-08-15</td>\n",
       "      <td>A</td>\n",
       "      <td>水泳、ゴルフ</td>\n",
       "      <td>東京都</td>\n",
       "    </tr>\n",
       "    <tr>\n",
       "      <th>2</th>\n",
       "      <td>6</td>\n",
       "      <td>Cocolo</td>\n",
       "      <td>COCOLO</td>\n",
       "      <td>こころ</td>\n",
       "      <td>96.0</td>\n",
       "      <td>55.0</td>\n",
       "      <td>85.0</td>\n",
       "      <td>168.0</td>\n",
       "      <td>1982-07-07</td>\n",
       "      <td>B</td>\n",
       "      <td>パソコン</td>\n",
       "      <td>茨城県</td>\n",
       "    </tr>\n",
       "    <tr>\n",
       "      <th>3</th>\n",
       "      <td>8</td>\n",
       "      <td>Saiko</td>\n",
       "      <td>Saiko</td>\n",
       "      <td>さいこ</td>\n",
       "      <td>80.0</td>\n",
       "      <td>59.0</td>\n",
       "      <td>82.0</td>\n",
       "      <td>162.0</td>\n",
       "      <td>1983-04-12</td>\n",
       "      <td>O</td>\n",
       "      <td>料理、大食い</td>\n",
       "      <td>東京都</td>\n",
       "    </tr>\n",
       "    <tr>\n",
       "      <th>4</th>\n",
       "      <td>11</td>\n",
       "      <td>Aida Momo</td>\n",
       "      <td>あいだもも</td>\n",
       "      <td>あいだもも</td>\n",
       "      <td>82.0</td>\n",
       "      <td>55.0</td>\n",
       "      <td>89.0</td>\n",
       "      <td>162.0</td>\n",
       "      <td>1970-06-18</td>\n",
       "      <td>A</td>\n",
       "      <td>エアロビクス</td>\n",
       "      <td>東京都</td>\n",
       "    </tr>\n",
       "  </tbody>\n",
       "</table>\n",
       "</div>"
      ],
      "text/plain": [
       "   id          name japanName hiragana  bust  waist   hip  height    birthday  \\\n",
       "0   3  Kitagawa Yui      北川ゆい   きたがわゆい  95.0   60.0  88.0     NaN  1980-12-14   \n",
       "1   4         Akira     Akira      あきら  90.0   58.0  86.0   157.0  1978-08-15   \n",
       "2   6        Cocolo    COCOLO      こころ  96.0   55.0  85.0   168.0  1982-07-07   \n",
       "3   8         Saiko     Saiko      さいこ  80.0   59.0  82.0   162.0  1983-04-12   \n",
       "4  11     Aida Momo     あいだもも    あいだもも  82.0   55.0  89.0   162.0  1970-06-18   \n",
       "\n",
       "  blood_type     hobby prefectures  \n",
       "0         AB  クラシックバレエ        None  \n",
       "1          A    水泳、ゴルフ         東京都  \n",
       "2          B      パソコン         茨城県  \n",
       "3          O    料理、大食い         東京都  \n",
       "4          A    エアロビクス         東京都  "
      ]
     },
     "execution_count": 2,
     "metadata": {},
     "output_type": "execute_result"
    }
   ],
   "source": [
    "actress = pd.read_json(\"jav-py/acctress.json\")\n",
    "actress.head()"
   ]
  },
  {
   "cell_type": "code",
   "execution_count": 3,
   "metadata": {},
   "outputs": [
    {
     "data": {
      "text/html": [
       "<div>\n",
       "<style scoped>\n",
       "    .dataframe tbody tr th:only-of-type {\n",
       "        vertical-align: middle;\n",
       "    }\n",
       "\n",
       "    .dataframe tbody tr th {\n",
       "        vertical-align: top;\n",
       "    }\n",
       "\n",
       "    .dataframe thead th {\n",
       "        text-align: right;\n",
       "    }\n",
       "</style>\n",
       "<table border=\"1\" class=\"dataframe\">\n",
       "  <thead>\n",
       "    <tr style=\"text-align: right;\">\n",
       "      <th></th>\n",
       "      <th>bust</th>\n",
       "      <th>waist</th>\n",
       "      <th>hip</th>\n",
       "      <th>height</th>\n",
       "      <th>blood_type</th>\n",
       "    </tr>\n",
       "  </thead>\n",
       "  <tbody>\n",
       "    <tr>\n",
       "      <th>0</th>\n",
       "      <td>95.0</td>\n",
       "      <td>60.0</td>\n",
       "      <td>88.0</td>\n",
       "      <td>NaN</td>\n",
       "      <td>AB</td>\n",
       "    </tr>\n",
       "    <tr>\n",
       "      <th>1</th>\n",
       "      <td>90.0</td>\n",
       "      <td>58.0</td>\n",
       "      <td>86.0</td>\n",
       "      <td>157.0</td>\n",
       "      <td>A</td>\n",
       "    </tr>\n",
       "    <tr>\n",
       "      <th>2</th>\n",
       "      <td>96.0</td>\n",
       "      <td>55.0</td>\n",
       "      <td>85.0</td>\n",
       "      <td>168.0</td>\n",
       "      <td>B</td>\n",
       "    </tr>\n",
       "    <tr>\n",
       "      <th>3</th>\n",
       "      <td>80.0</td>\n",
       "      <td>59.0</td>\n",
       "      <td>82.0</td>\n",
       "      <td>162.0</td>\n",
       "      <td>O</td>\n",
       "    </tr>\n",
       "    <tr>\n",
       "      <th>4</th>\n",
       "      <td>82.0</td>\n",
       "      <td>55.0</td>\n",
       "      <td>89.0</td>\n",
       "      <td>162.0</td>\n",
       "      <td>A</td>\n",
       "    </tr>\n",
       "  </tbody>\n",
       "</table>\n",
       "</div>"
      ],
      "text/plain": [
       "   bust  waist   hip  height blood_type\n",
       "0  95.0   60.0  88.0     NaN         AB\n",
       "1  90.0   58.0  86.0   157.0          A\n",
       "2  96.0   55.0  85.0   168.0          B\n",
       "3  80.0   59.0  82.0   162.0          O\n",
       "4  82.0   55.0  89.0   162.0          A"
      ]
     },
     "execution_count": 3,
     "metadata": {},
     "output_type": "execute_result"
    }
   ],
   "source": [
    "df = actress [[\"bust\", \"waist\",\"hip\",\"height\", \"blood_type\"]]\n",
    "df.head()"
   ]
  },
  {
   "cell_type": "code",
   "execution_count": 4,
   "metadata": {},
   "outputs": [
    {
     "name": "stdout",
     "output_type": "stream",
     "text": [
      "<class 'pandas.core.frame.DataFrame'>\n",
      "RangeIndex: 11186 entries, 0 to 11185\n",
      "Data columns (total 5 columns):\n",
      " #   Column      Non-Null Count  Dtype  \n",
      "---  ------      --------------  -----  \n",
      " 0   bust        6456 non-null   float64\n",
      " 1   waist       6436 non-null   float64\n",
      " 2   hip         6428 non-null   float64\n",
      " 3   height      5012 non-null   float64\n",
      " 4   blood_type  3171 non-null   object \n",
      "dtypes: float64(4), object(1)\n",
      "memory usage: 437.1+ KB\n"
     ]
    }
   ],
   "source": [
    "df.info()"
   ]
  },
  {
   "cell_type": "code",
   "execution_count": 5,
   "metadata": {},
   "outputs": [
    {
     "name": "stdout",
     "output_type": "stream",
     "text": [
      "<class 'pandas.core.frame.DataFrame'>\n",
      "Int64Index: 2678 entries, 1 to 11185\n",
      "Data columns (total 5 columns):\n",
      " #   Column      Non-Null Count  Dtype  \n",
      "---  ------      --------------  -----  \n",
      " 0   bust        2678 non-null   float64\n",
      " 1   waist       2678 non-null   float64\n",
      " 2   hip         2678 non-null   float64\n",
      " 3   height      2678 non-null   float64\n",
      " 4   blood_type  2678 non-null   object \n",
      "dtypes: float64(4), object(1)\n",
      "memory usage: 125.5+ KB\n"
     ]
    }
   ],
   "source": [
    "df = df.dropna()\n",
    "df.info()"
   ]
  },
  {
   "cell_type": "code",
   "execution_count": 6,
   "metadata": {},
   "outputs": [
    {
     "data": {
      "text/plain": [
       "A     1100\n",
       "O      939\n",
       "B      422\n",
       "AB     217\n",
       "Name: blood_type, dtype: int64"
      ]
     },
     "execution_count": 6,
     "metadata": {},
     "output_type": "execute_result"
    }
   ],
   "source": [
    "df .blood_type.value_counts()"
   ]
  },
  {
   "cell_type": "code",
   "execution_count": 7,
   "metadata": {},
   "outputs": [],
   "source": [
    "mapper = {\"O\": 0, \"A\": 1, \"B\": 2, \"AB\": 3}\n",
    "df[\"blood_type\"] = df[\"blood_type\"].map(mapper)"
   ]
  },
  {
   "cell_type": "code",
   "execution_count": 8,
   "metadata": {},
   "outputs": [
    {
     "data": {
      "text/html": [
       "<div>\n",
       "<style scoped>\n",
       "    .dataframe tbody tr th:only-of-type {\n",
       "        vertical-align: middle;\n",
       "    }\n",
       "\n",
       "    .dataframe tbody tr th {\n",
       "        vertical-align: top;\n",
       "    }\n",
       "\n",
       "    .dataframe thead th {\n",
       "        text-align: right;\n",
       "    }\n",
       "</style>\n",
       "<table border=\"1\" class=\"dataframe\">\n",
       "  <thead>\n",
       "    <tr style=\"text-align: right;\">\n",
       "      <th></th>\n",
       "      <th>bust</th>\n",
       "      <th>waist</th>\n",
       "      <th>hip</th>\n",
       "      <th>height</th>\n",
       "      <th>blood_type</th>\n",
       "    </tr>\n",
       "  </thead>\n",
       "  <tbody>\n",
       "    <tr>\n",
       "      <th>1</th>\n",
       "      <td>90.0</td>\n",
       "      <td>58.0</td>\n",
       "      <td>86.0</td>\n",
       "      <td>157.0</td>\n",
       "      <td>1</td>\n",
       "    </tr>\n",
       "    <tr>\n",
       "      <th>2</th>\n",
       "      <td>96.0</td>\n",
       "      <td>55.0</td>\n",
       "      <td>85.0</td>\n",
       "      <td>168.0</td>\n",
       "      <td>2</td>\n",
       "    </tr>\n",
       "    <tr>\n",
       "      <th>3</th>\n",
       "      <td>80.0</td>\n",
       "      <td>59.0</td>\n",
       "      <td>82.0</td>\n",
       "      <td>162.0</td>\n",
       "      <td>0</td>\n",
       "    </tr>\n",
       "    <tr>\n",
       "      <th>4</th>\n",
       "      <td>82.0</td>\n",
       "      <td>55.0</td>\n",
       "      <td>89.0</td>\n",
       "      <td>162.0</td>\n",
       "      <td>1</td>\n",
       "    </tr>\n",
       "    <tr>\n",
       "      <th>6</th>\n",
       "      <td>85.0</td>\n",
       "      <td>60.0</td>\n",
       "      <td>88.0</td>\n",
       "      <td>165.0</td>\n",
       "      <td>1</td>\n",
       "    </tr>\n",
       "  </tbody>\n",
       "</table>\n",
       "</div>"
      ],
      "text/plain": [
       "   bust  waist   hip  height  blood_type\n",
       "1  90.0   58.0  86.0   157.0           1\n",
       "2  96.0   55.0  85.0   168.0           2\n",
       "3  80.0   59.0  82.0   162.0           0\n",
       "4  82.0   55.0  89.0   162.0           1\n",
       "6  85.0   60.0  88.0   165.0           1"
      ]
     },
     "execution_count": 8,
     "metadata": {},
     "output_type": "execute_result"
    }
   ],
   "source": [
    "df.head()"
   ]
  },
  {
   "cell_type": "code",
   "execution_count": 9,
   "metadata": {},
   "outputs": [
    {
     "data": {
      "text/plain": [
       "array([[ 90.,  58.,  86., 157.,   1.],\n",
       "       [ 96.,  55.,  85., 168.,   2.],\n",
       "       [ 80.,  59.,  82., 162.,   0.],\n",
       "       ...,\n",
       "       [ 83.,  58.,  85., 165.,   0.],\n",
       "       [ 88.,  58.,  87., 153.,   0.],\n",
       "       [ 88.,  59.,  86., 161.,   2.]])"
      ]
     },
     "execution_count": 9,
     "metadata": {},
     "output_type": "execute_result"
    }
   ],
   "source": [
    "actress_np = df.to_numpy()\n",
    "actress_np"
   ]
  },
  {
   "cell_type": "code",
   "execution_count": 10,
   "metadata": {},
   "outputs": [],
   "source": [
    "#number of cluster = 5\n",
    "k_mean_5 = KMeans(n_clusters = 5)\n",
    "k_mean_5.fit(actress_np)\n",
    "label_5 = k_mean_5.labels_"
   ]
  },
  {
   "cell_type": "code",
   "execution_count": 11,
   "metadata": {},
   "outputs": [
    {
     "data": {
      "text/plain": [
       "array([4, 1, 2, ..., 1, 4, 1])"
      ]
     },
     "execution_count": 11,
     "metadata": {},
     "output_type": "execute_result"
    }
   ],
   "source": [
    "label_5"
   ]
  },
  {
   "cell_type": "code",
   "execution_count": 15,
   "metadata": {},
   "outputs": [
    {
     "data": {
      "text/plain": [
       "0.19485292233395346"
      ]
     },
     "execution_count": 15,
     "metadata": {},
     "output_type": "execute_result"
    }
   ],
   "source": [
    "metrics.silhouette_score(actress_np, label_10, metric=\"euclidean\")"
   ]
  },
  {
   "cell_type": "code",
   "execution_count": 16,
   "metadata": {},
   "outputs": [
    {
     "data": {
      "text/plain": [
       "768.3557910141576"
      ]
     },
     "execution_count": 16,
     "metadata": {},
     "output_type": "execute_result"
    }
   ],
   "source": [
    "metrics.calinski_harabasz_score(actress_np, label_10)"
   ]
  },
  {
   "cell_type": "code",
   "execution_count": 14,
   "metadata": {},
   "outputs": [],
   "source": [
    "#number of cluster = 10\n",
    "k_mean_10 = KMeans(n_clusters = 10)\n",
    "k_mean_10.fit(actress_np)\n",
    "label_10 = k_mean_10.labels_"
   ]
  },
  {
   "cell_type": "code",
   "execution_count": 18,
   "metadata": {},
   "outputs": [],
   "source": [
    "sum_distance = []\n",
    "K = range(1,15)\n",
    "for k in K:\n",
    "    k_mean = KMeans(n_clusters = k)\n",
    "    k_mean.fit(actress_np)\n",
    "    label = k_mean.labels_\n",
    "    sum_distance.append(k_mean.inertia_)"
   ]
  },
  {
   "cell_type": "code",
   "execution_count": 19,
   "metadata": {},
   "outputs": [
    {
     "data": {
      "image/png": "[encoded data removed]",
      "text/plain": [
       "<Figure size 432x288 with 1 Axes>"
      ]
     },
     "metadata": {
      "needs_background": "light"
     },
     "output_type": "display_data"
    }
   ],
   "source": [
    "plt.plot(K, sum_distance, \"bx-\")\n",
    "plt.show()"
   ]
  },
  {
   "cell_type": "code",
   "execution_count": 25,
   "metadata": {},
   "outputs": [],
   "source": [
    "#choose n = 3\n",
    "#number of cluster = 3\n",
    "k_mean_3 = KMeans(n_clusters = 3)\n",
    "model = k_mean_3.fit(actress_np)\n",
    "result = k_mean_3.labels_"
   ]
  },
  {
   "cell_type": "code",
   "execution_count": 26,
   "metadata": {},
   "outputs": [
    {
     "data": {
      "text/html": [
       "<div>\n",
       "<style scoped>\n",
       "    .dataframe tbody tr th:only-of-type {\n",
       "        vertical-align: middle;\n",
       "    }\n",
       "\n",
       "    .dataframe tbody tr th {\n",
       "        vertical-align: top;\n",
       "    }\n",
       "\n",
       "    .dataframe thead th {\n",
       "        text-align: right;\n",
       "    }\n",
       "</style>\n",
       "<table border=\"1\" class=\"dataframe\">\n",
       "  <thead>\n",
       "    <tr style=\"text-align: right;\">\n",
       "      <th></th>\n",
       "      <th>bust</th>\n",
       "      <th>waist</th>\n",
       "      <th>hip</th>\n",
       "      <th>height</th>\n",
       "      <th>blood_type</th>\n",
       "    </tr>\n",
       "  </thead>\n",
       "  <tbody>\n",
       "    <tr>\n",
       "      <th>1</th>\n",
       "      <td>90.0</td>\n",
       "      <td>58.0</td>\n",
       "      <td>86.0</td>\n",
       "      <td>157.0</td>\n",
       "      <td>1</td>\n",
       "    </tr>\n",
       "    <tr>\n",
       "      <th>2</th>\n",
       "      <td>96.0</td>\n",
       "      <td>55.0</td>\n",
       "      <td>85.0</td>\n",
       "      <td>168.0</td>\n",
       "      <td>2</td>\n",
       "    </tr>\n",
       "    <tr>\n",
       "      <th>3</th>\n",
       "      <td>80.0</td>\n",
       "      <td>59.0</td>\n",
       "      <td>82.0</td>\n",
       "      <td>162.0</td>\n",
       "      <td>0</td>\n",
       "    </tr>\n",
       "    <tr>\n",
       "      <th>4</th>\n",
       "      <td>82.0</td>\n",
       "      <td>55.0</td>\n",
       "      <td>89.0</td>\n",
       "      <td>162.0</td>\n",
       "      <td>1</td>\n",
       "    </tr>\n",
       "    <tr>\n",
       "      <th>6</th>\n",
       "      <td>85.0</td>\n",
       "      <td>60.0</td>\n",
       "      <td>88.0</td>\n",
       "      <td>165.0</td>\n",
       "      <td>1</td>\n",
       "    </tr>\n",
       "  </tbody>\n",
       "</table>\n",
       "</div>"
      ],
      "text/plain": [
       "   bust  waist   hip  height  blood_type\n",
       "1  90.0   58.0  86.0   157.0           1\n",
       "2  96.0   55.0  85.0   168.0           2\n",
       "3  80.0   59.0  82.0   162.0           0\n",
       "4  82.0   55.0  89.0   162.0           1\n",
       "6  85.0   60.0  88.0   165.0           1"
      ]
     },
     "execution_count": 26,
     "metadata": {},
     "output_type": "execute_result"
    }
   ],
   "source": [
    "df.head()"
   ]
  },
  {
   "cell_type": "code",
   "execution_count": 27,
   "metadata": {},
   "outputs": [
    {
     "data": {
      "image/png": "[encoded data removed]",
      "text/plain": [
       "<Figure size 432x288 with 1 Axes>"
      ]
     },
     "metadata": {
      "needs_background": "light"
     },
     "output_type": "display_data"
    }
   ],
   "source": [
    "plt.scatter(actress_np[:,0], actress_np[:,3])\n",
    "plt.show()"
   ]
  },
  {
   "cell_type": "code",
   "execution_count": 34,
   "metadata": {},
   "outputs": [
    {
     "name": "stdout",
     "output_type": "stream",
     "text": [
      "[85.59638009 96.38218391 84.39591837]\n",
      "[162.90045249 159.57471264 153.96106122]\n"
     ]
    }
   ],
   "source": [
    "print(model.cluster_centers_[:,0])\n",
    "print(model.cluster_centers_[:,3])"
   ]
  },
  {
   "cell_type": "code",
   "execution_count": 35,
   "metadata": {},
   "outputs": [
    {
     "data": {
      "image/png": "[encoded data removed]",
      "text/plain": [
       "<Figure size 432x288 with 1 Axes>"
      ]
     },
     "metadata": {
      "needs_background": "light"
     },
     "output_type": "display_data"
    }
   ],
   "source": [
    "plt.scatter(\n",
    "    actress_np[result == 0, 0], actress_np[result == 0, 3],\n",
    "    c= \"lightgreen\",\n",
    "    marker = \"s\",\n",
    "    label = \"cluster 1\",\n",
    ")\n",
    "plt.scatter(\n",
    "    actress_np[result == 1, 0], actress_np[result == 1, 3],\n",
    "    c= \"orange\",\n",
    "    marker = \"o\",\n",
    "    label = \"cluster 2\",\n",
    ")\n",
    "plt.scatter(\n",
    "    actress_np[result == 2, 0], actress_np[result == 2, 3],\n",
    "    c= \"lightblue\",\n",
    "    marker = \"v\",\n",
    "    label = \"cluster 1\",\n",
    ")\n",
    "plt.scatter(\n",
    "    [85.59638009, 96.38218391, 84.39591837], [162.90045249, 159.57471264, 153.96106122],\n",
    "     s = 250,\n",
    "    marker = \"*\",c = \"red\",\n",
    "    label =  \"central\"\n",
    ")\n",
    "plt.legend(scatterpoints = 1)\n",
    "plt.grid()\n",
    "plt.show()\n",
    "        "
   ]
  },
  {
   "cell_type": "code",
   "execution_count": null,
   "metadata": {},
   "outputs": [],
   "source": [
    "#input: vong 1, vong2, vong3, chieu, cao, nhom mau\n",
    "#--> belong to which cluster\n",
    "#random 10 in the cluster"
   ]
  },
  {
   "cell_type": "code",
   "execution_count": 39,
   "metadata": {},
   "outputs": [
    {
     "name": "stdout",
     "output_type": "stream",
     "text": [
      "<class 'pandas.core.frame.DataFrame'>\n",
      "Int64Index: 2678 entries, 1 to 11185\n",
      "Data columns (total 5 columns):\n",
      " #   Column      Non-Null Count  Dtype  \n",
      "---  ------      --------------  -----  \n",
      " 0   bust        2678 non-null   float64\n",
      " 1   waist       2678 non-null   float64\n",
      " 2   hip         2678 non-null   float64\n",
      " 3   height      2678 non-null   float64\n",
      " 4   blood_type  2678 non-null   int64  \n",
      "dtypes: float64(4), int64(1)\n",
      "memory usage: 125.5 KB\n"
     ]
    },
    {
     "data": {
      "text/html": [
       "<div>\n",
       "<style scoped>\n",
       "    .dataframe tbody tr th:only-of-type {\n",
       "        vertical-align: middle;\n",
       "    }\n",
       "\n",
       "    .dataframe tbody tr th {\n",
       "        vertical-align: top;\n",
       "    }\n",
       "\n",
       "    .dataframe thead th {\n",
       "        text-align: right;\n",
       "    }\n",
       "</style>\n",
       "<table border=\"1\" class=\"dataframe\">\n",
       "  <thead>\n",
       "    <tr style=\"text-align: right;\">\n",
       "      <th></th>\n",
       "      <th>id</th>\n",
       "      <th>name</th>\n",
       "      <th>japanName</th>\n",
       "    </tr>\n",
       "  </thead>\n",
       "  <tbody>\n",
       "    <tr>\n",
       "      <th>0</th>\n",
       "      <td>3</td>\n",
       "      <td>Kitagawa Yui</td>\n",
       "      <td>北川ゆい</td>\n",
       "    </tr>\n",
       "    <tr>\n",
       "      <th>1</th>\n",
       "      <td>4</td>\n",
       "      <td>Akira</td>\n",
       "      <td>Akira</td>\n",
       "    </tr>\n",
       "    <tr>\n",
       "      <th>2</th>\n",
       "      <td>6</td>\n",
       "      <td>Cocolo</td>\n",
       "      <td>COCOLO</td>\n",
       "    </tr>\n",
       "    <tr>\n",
       "      <th>3</th>\n",
       "      <td>8</td>\n",
       "      <td>Saiko</td>\n",
       "      <td>Saiko</td>\n",
       "    </tr>\n",
       "    <tr>\n",
       "      <th>4</th>\n",
       "      <td>11</td>\n",
       "      <td>Aida Momo</td>\n",
       "      <td>あいだもも</td>\n",
       "    </tr>\n",
       "  </tbody>\n",
       "</table>\n",
       "</div>"
      ],
      "text/plain": [
       "   id          name japanName\n",
       "0   3  Kitagawa Yui      北川ゆい\n",
       "1   4         Akira     Akira\n",
       "2   6        Cocolo    COCOLO\n",
       "3   8         Saiko     Saiko\n",
       "4  11     Aida Momo     あいだもも"
      ]
     },
     "execution_count": 39,
     "metadata": {},
     "output_type": "execute_result"
    }
   ],
   "source": [
    "df_1 = actress [[\"id\",\"bust\", \"waist\",\"hip\",\"height\", \"blood_type\"]]\n",
    "df_1.head()\n",
    "df_1 = df_1.dropna()\n",
    "df.info()\n",
    "df_2 = actress[[\"id\", \"name\", \"japanName\"]]\n",
    "df_2.head()"
   ]
  },
  {
   "cell_type": "code",
   "execution_count": 40,
   "metadata": {},
   "outputs": [
    {
     "name": "stdout",
     "output_type": "stream",
     "text": [
      "<class 'pandas.core.frame.DataFrame'>\n",
      "Int64Index: 2678 entries, 0 to 2677\n",
      "Data columns (total 8 columns):\n",
      " #   Column      Non-Null Count  Dtype  \n",
      "---  ------      --------------  -----  \n",
      " 0   id          2678 non-null   int64  \n",
      " 1   bust        2678 non-null   float64\n",
      " 2   waist       2678 non-null   float64\n",
      " 3   hip         2678 non-null   float64\n",
      " 4   height      2678 non-null   float64\n",
      " 5   blood_type  2678 non-null   object \n",
      " 6   name        2678 non-null   object \n",
      " 7   japanName   2678 non-null   object \n",
      "dtypes: float64(4), int64(1), object(3)\n",
      "memory usage: 188.3+ KB\n"
     ]
    }
   ],
   "source": [
    "lookup = df_1.merge(df_2, on = \"id\", how = \"left\")\n",
    "lookup. info()"
   ]
  },
  {
   "cell_type": "code",
   "execution_count": 41,
   "metadata": {},
   "outputs": [
    {
     "data": {
      "text/html": [
       "<div>\n",
       "<style scoped>\n",
       "    .dataframe tbody tr th:only-of-type {\n",
       "        vertical-align: middle;\n",
       "    }\n",
       "\n",
       "    .dataframe tbody tr th {\n",
       "        vertical-align: top;\n",
       "    }\n",
       "\n",
       "    .dataframe thead th {\n",
       "        text-align: right;\n",
       "    }\n",
       "</style>\n",
       "<table border=\"1\" class=\"dataframe\">\n",
       "  <thead>\n",
       "    <tr style=\"text-align: right;\">\n",
       "      <th></th>\n",
       "      <th>id</th>\n",
       "      <th>bust</th>\n",
       "      <th>waist</th>\n",
       "      <th>hip</th>\n",
       "      <th>height</th>\n",
       "      <th>blood_type</th>\n",
       "      <th>name</th>\n",
       "      <th>japanName</th>\n",
       "      <th>cluster</th>\n",
       "    </tr>\n",
       "  </thead>\n",
       "  <tbody>\n",
       "    <tr>\n",
       "      <th>0</th>\n",
       "      <td>4</td>\n",
       "      <td>90.0</td>\n",
       "      <td>58.0</td>\n",
       "      <td>86.0</td>\n",
       "      <td>157.0</td>\n",
       "      <td>A</td>\n",
       "      <td>Akira</td>\n",
       "      <td>Akira</td>\n",
       "      <td>2</td>\n",
       "    </tr>\n",
       "    <tr>\n",
       "      <th>1</th>\n",
       "      <td>6</td>\n",
       "      <td>96.0</td>\n",
       "      <td>55.0</td>\n",
       "      <td>85.0</td>\n",
       "      <td>168.0</td>\n",
       "      <td>B</td>\n",
       "      <td>Cocolo</td>\n",
       "      <td>COCOLO</td>\n",
       "      <td>1</td>\n",
       "    </tr>\n",
       "    <tr>\n",
       "      <th>2</th>\n",
       "      <td>8</td>\n",
       "      <td>80.0</td>\n",
       "      <td>59.0</td>\n",
       "      <td>82.0</td>\n",
       "      <td>162.0</td>\n",
       "      <td>O</td>\n",
       "      <td>Saiko</td>\n",
       "      <td>Saiko</td>\n",
       "      <td>0</td>\n",
       "    </tr>\n",
       "    <tr>\n",
       "      <th>3</th>\n",
       "      <td>11</td>\n",
       "      <td>82.0</td>\n",
       "      <td>55.0</td>\n",
       "      <td>89.0</td>\n",
       "      <td>162.0</td>\n",
       "      <td>A</td>\n",
       "      <td>Aida Momo</td>\n",
       "      <td>あいだもも</td>\n",
       "      <td>0</td>\n",
       "    </tr>\n",
       "    <tr>\n",
       "      <th>4</th>\n",
       "      <td>17</td>\n",
       "      <td>85.0</td>\n",
       "      <td>60.0</td>\n",
       "      <td>88.0</td>\n",
       "      <td>165.0</td>\n",
       "      <td>A</td>\n",
       "      <td>Aduki Miyu</td>\n",
       "      <td>あづき美由</td>\n",
       "      <td>0</td>\n",
       "    </tr>\n",
       "  </tbody>\n",
       "</table>\n",
       "</div>"
      ],
      "text/plain": [
       "   id  bust  waist   hip  height blood_type        name japanName  cluster\n",
       "0   4  90.0   58.0  86.0   157.0          A       Akira     Akira        2\n",
       "1   6  96.0   55.0  85.0   168.0          B      Cocolo    COCOLO        1\n",
       "2   8  80.0   59.0  82.0   162.0          O       Saiko     Saiko        0\n",
       "3  11  82.0   55.0  89.0   162.0          A   Aida Momo     あいだもも        0\n",
       "4  17  85.0   60.0  88.0   165.0          A  Aduki Miyu     あづき美由        0"
      ]
     },
     "execution_count": 41,
     "metadata": {},
     "output_type": "execute_result"
    }
   ],
   "source": [
    "lookup[\"cluster\"] = result\n",
    "lookup.head()"
   ]
  },
  {
   "cell_type": "code",
   "execution_count": 44,
   "metadata": {},
   "outputs": [],
   "source": [
    "def recommend(model, vong1, vong2, vong3, chieu_cao, nhom_mau):\n",
    "    arr = np.array([[vong1, vong2, vong3, chieu_cao, nhom_mau]])\n",
    "    pred = model.predict(arr)\n",
    "    return lookup[lookup[\"cluster\"] == pred[0]].sample(10)\n"
   ]
  },
  {
   "cell_type": "code",
   "execution_count": 46,
   "metadata": {},
   "outputs": [
    {
     "data": {
      "text/html": [
       "<div>\n",
       "<style scoped>\n",
       "    .dataframe tbody tr th:only-of-type {\n",
       "        vertical-align: middle;\n",
       "    }\n",
       "\n",
       "    .dataframe tbody tr th {\n",
       "        vertical-align: top;\n",
       "    }\n",
       "\n",
       "    .dataframe thead th {\n",
       "        text-align: right;\n",
       "    }\n",
       "</style>\n",
       "<table border=\"1\" class=\"dataframe\">\n",
       "  <thead>\n",
       "    <tr style=\"text-align: right;\">\n",
       "      <th></th>\n",
       "      <th>id</th>\n",
       "      <th>bust</th>\n",
       "      <th>waist</th>\n",
       "      <th>hip</th>\n",
       "      <th>height</th>\n",
       "      <th>blood_type</th>\n",
       "      <th>name</th>\n",
       "      <th>japanName</th>\n",
       "      <th>cluster</th>\n",
       "    </tr>\n",
       "  </thead>\n",
       "  <tbody>\n",
       "    <tr>\n",
       "      <th>1250</th>\n",
       "      <td>1000567</td>\n",
       "      <td>84.0</td>\n",
       "      <td>57.0</td>\n",
       "      <td>82.0</td>\n",
       "      <td>162.0</td>\n",
       "      <td>A</td>\n",
       "      <td>Erina</td>\n",
       "      <td>英里奈</td>\n",
       "      <td>0</td>\n",
       "    </tr>\n",
       "    <tr>\n",
       "      <th>862</th>\n",
       "      <td>23158</td>\n",
       "      <td>90.0</td>\n",
       "      <td>60.0</td>\n",
       "      <td>88.0</td>\n",
       "      <td>163.0</td>\n",
       "      <td>A</td>\n",
       "      <td>Ibuki Riko</td>\n",
       "      <td>伊吹りこ</td>\n",
       "      <td>0</td>\n",
       "    </tr>\n",
       "    <tr>\n",
       "      <th>534</th>\n",
       "      <td>18110</td>\n",
       "      <td>82.0</td>\n",
       "      <td>57.0</td>\n",
       "      <td>84.0</td>\n",
       "      <td>165.0</td>\n",
       "      <td>AB</td>\n",
       "      <td>Usikawa Koto</td>\n",
       "      <td>牛川とこ</td>\n",
       "      <td>0</td>\n",
       "    </tr>\n",
       "    <tr>\n",
       "      <th>116</th>\n",
       "      <td>11492</td>\n",
       "      <td>85.0</td>\n",
       "      <td>58.0</td>\n",
       "      <td>87.0</td>\n",
       "      <td>168.0</td>\n",
       "      <td>O</td>\n",
       "      <td>Nene</td>\n",
       "      <td>寧々</td>\n",
       "      <td>0</td>\n",
       "    </tr>\n",
       "    <tr>\n",
       "      <th>2028</th>\n",
       "      <td>1031804</td>\n",
       "      <td>90.0</td>\n",
       "      <td>57.0</td>\n",
       "      <td>86.0</td>\n",
       "      <td>169.0</td>\n",
       "      <td>A</td>\n",
       "      <td>Sasamoto Azusa</td>\n",
       "      <td>笹本梓</td>\n",
       "      <td>0</td>\n",
       "    </tr>\n",
       "    <tr>\n",
       "      <th>1954</th>\n",
       "      <td>4325</td>\n",
       "      <td>82.0</td>\n",
       "      <td>56.0</td>\n",
       "      <td>84.0</td>\n",
       "      <td>162.0</td>\n",
       "      <td>A</td>\n",
       "      <td>Itou Rei</td>\n",
       "      <td>伊東怜</td>\n",
       "      <td>0</td>\n",
       "    </tr>\n",
       "    <tr>\n",
       "      <th>2372</th>\n",
       "      <td>666</td>\n",
       "      <td>86.0</td>\n",
       "      <td>56.0</td>\n",
       "      <td>87.0</td>\n",
       "      <td>161.0</td>\n",
       "      <td>A</td>\n",
       "      <td>Oikawa Nao</td>\n",
       "      <td>及川奈央</td>\n",
       "      <td>0</td>\n",
       "    </tr>\n",
       "    <tr>\n",
       "      <th>353</th>\n",
       "      <td>15059</td>\n",
       "      <td>90.0</td>\n",
       "      <td>60.0</td>\n",
       "      <td>88.0</td>\n",
       "      <td>160.0</td>\n",
       "      <td>A</td>\n",
       "      <td>Yuzuki Aya</td>\n",
       "      <td>柚木あや</td>\n",
       "      <td>0</td>\n",
       "    </tr>\n",
       "    <tr>\n",
       "      <th>34</th>\n",
       "      <td>1098</td>\n",
       "      <td>84.0</td>\n",
       "      <td>60.0</td>\n",
       "      <td>87.0</td>\n",
       "      <td>164.0</td>\n",
       "      <td>B</td>\n",
       "      <td>Sakuragi Rui</td>\n",
       "      <td>桜樹ルイ</td>\n",
       "      <td>0</td>\n",
       "    </tr>\n",
       "    <tr>\n",
       "      <th>914</th>\n",
       "      <td>23797</td>\n",
       "      <td>83.0</td>\n",
       "      <td>58.0</td>\n",
       "      <td>83.0</td>\n",
       "      <td>167.0</td>\n",
       "      <td>O</td>\n",
       "      <td>Ayanami Yuu</td>\n",
       "      <td>綾波優</td>\n",
       "      <td>0</td>\n",
       "    </tr>\n",
       "  </tbody>\n",
       "</table>\n",
       "</div>"
      ],
      "text/plain": [
       "           id  bust  waist   hip  height blood_type            name japanName  \\\n",
       "1250  1000567  84.0   57.0  82.0   162.0          A           Erina       英里奈   \n",
       "862     23158  90.0   60.0  88.0   163.0          A      Ibuki Riko      伊吹りこ   \n",
       "534     18110  82.0   57.0  84.0   165.0         AB    Usikawa Koto      牛川とこ   \n",
       "116     11492  85.0   58.0  87.0   168.0          O            Nene        寧々   \n",
       "2028  1031804  90.0   57.0  86.0   169.0          A  Sasamoto Azusa       笹本梓   \n",
       "1954     4325  82.0   56.0  84.0   162.0          A        Itou Rei       伊東怜   \n",
       "2372      666  86.0   56.0  87.0   161.0          A      Oikawa Nao      及川奈央   \n",
       "353     15059  90.0   60.0  88.0   160.0          A      Yuzuki Aya      柚木あや   \n",
       "34       1098  84.0   60.0  87.0   164.0          B    Sakuragi Rui      桜樹ルイ   \n",
       "914     23797  83.0   58.0  83.0   167.0          O     Ayanami Yuu       綾波優   \n",
       "\n",
       "      cluster  \n",
       "1250        0  \n",
       "862         0  \n",
       "534         0  \n",
       "116         0  \n",
       "2028        0  \n",
       "1954        0  \n",
       "2372        0  \n",
       "353         0  \n",
       "34          0  \n",
       "914         0  "
      ]
     },
     "execution_count": 46,
     "metadata": {},
     "output_type": "execute_result"
    }
   ],
   "source": [
    "vong1 = 86\n",
    "vong2= 55\n",
    "vong3 = 90\n",
    "chieu_cao = 160\n",
    "nhom_mau = 0 #nhom mu o\n",
    "recommend(model, vong1, vong2, vong3, chieu_cao, nhom_mau)"
   ]
  },
  {
   "cell_type": "code",
   "execution_count": null,
   "metadata": {},
   "outputs": [],
   "source": []
  }
 ],
 "metadata": {
  "kernelspec": {
   "display_name": "Python 3",
   "language": "python",
   "name": "python3"
  },
  "language_info": {
   "codemirror_mode": {
    "name": "ipython",
    "version": 3
   },
   "file_extension": ".py",
   "mimetype": "text/x-python",
   "name": "python",
   "nbconvert_exporter": "python",
   "pygments_lexer": "ipython3",
   "version": "3.8.3"
  }
 },
 "nbformat": 4,
 "nbformat_minor": 4
}
